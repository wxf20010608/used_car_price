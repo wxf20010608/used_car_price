{
 "cells": [
  {
   "cell_type": "code",
   "execution_count": 2,
   "metadata": {},
   "outputs": [],
   "source": [
    "import pandas as pd\n",
    "import numpy as np\n",
    "from sklearn.model_selection import KFold\n",
    "from lightgbm.sklearn import LGBMRegressor\n",
    "from sklearn.metrics import mean_absolute_error\n",
    "\n",
    "# 首先使用 Pandas 库读入训练数据和测试数据，保存到 Train_data 和 Test_data 变量中。\n",
    "Train_data = pd.read_csv(r'D:\\AI_Learning\\python\\Neural_Networks\\tianchi_competition\\data\\used_car_train_20200313.csv',\n",
    "                         sep=' ')  # handle_used_car_train.csv\n",
    "Test_data = pd.read_csv(r'D:\\AI_Learning\\python\\Neural_Networks\\tianchi_competition\\data\\used_car_testB_20200421.csv', sep=' ')\n",
    "\n",
    "# 使用 pd.concat() 函数将训练数据和测试数据合并，并保存到 df 变量中。\n",
    "df = pd.concat([Train_data, Test_data], ignore_index=True)"
   ]
  },
  {
   "cell_type": "code",
   "execution_count": 3,
   "metadata": {},
   "outputs": [],
   "source": [
    "# 对 'price' 做对数变换，使用 np.log1p() 函数。\n",
    "df['price'] = np.log1p(df['price'])"
   ]
  },
  {
   "cell_type": "code",
   "execution_count": 4,
   "metadata": {},
   "outputs": [],
   "source": [
    "# 用众数填充缺失值\n",
    "df['fuelType'] = df['fuelType'].fillna(0)\n",
    "df['gearbox'] = df['gearbox'].fillna(0)\n",
    "df['bodyType'] = df['bodyType'].fillna(0)\n",
    "df['model'] = df['model'].fillna(0)\n",
    "\n",
    "# 处理异常值，主要是将功率大于 600 的标为 600\n",
    "df['power'] = df['power'].map(lambda x: 600 if x > 600 else x)  # 赛题限定power<=600\n",
    "# 将 ‘notRepairedDamage’ 中的缺失值替换为 None\n",
    "df['notRepairedDamage'] = df['notRepairedDamage'].astype('str').apply(lambda x: x if x != '-' else None).astype(\n",
    "    'float32')\n",
    "\n",
    "# 对可分类的连续特征进行分桶，例如将功率（power）分为 31 组，车型（model）分为 24 组。\n",
    "bin = [i * 10 for i in range(31)]\n",
    "df['power_bin'] = pd.cut(df['power'], bin, labels=False)\n",
    "\n",
    "bin = [i * 10 for i in range(24)]\n",
    "df['model_bin'] = pd.cut(df['model'], bin, labels=False)"
   ]
  },
  {
   "cell_type": "code",
   "execution_count": null,
   "metadata": {},
   "outputs": [
    {
     "name": "stderr",
     "output_type": "stream",
     "text": [
      "C:\\Users\\Administrator\\AppData\\Local\\Temp\\ipykernel_76316\\1521240310.py:33: FutureWarning: Passing a dictionary to SeriesGroupBy.agg is deprecated and will raise in a future version of pandas. Pass a list of aggregations instead.\n",
      "  t1 = Train_data.groupby(kk[0], as_index=False)[kk[1]].agg(\n"
     ]
    }
   ],
   "source": [
    "# 对日期数据进行处理，主要是提取年，月，日等信息和计算二手车使用时间。\n",
    "from datetime import datetime\n",
    "\n",
    "# 把原始的日期字符串或整数格式（如 20160405）转换为标准的 datetime 类型（如 2016-04-05）。\n",
    "def date_process(x):\n",
    "    year = int(str(x)[:4])\n",
    "    month = int(str(x)[4:6])\n",
    "    day = int(str(x)[6:8])\n",
    "\n",
    "    if month < 1:\n",
    "        month = 1\n",
    "\n",
    "    date = datetime(year, month, day)\n",
    "    return date\n",
    "\n",
    "# 从注册日期/创建日期中提取：\n",
    "# 年（如 2016）\n",
    "# 月（如 4）\n",
    "# 日（如 5）\n",
    "# 分别存入新列 regDate_year、regDate_month、regDate_day\n",
    "df['regDate'] = df['regDate'].apply(date_process)\n",
    "df['creatDate'] = df['creatDate'].apply(date_process)\n",
    "df['regDate_year'] = df['regDate'].dt.year\n",
    "df['regDate_month'] = df['regDate'].dt.month\n",
    "df['regDate_day'] = df['regDate'].dt.day\n",
    "df['creatDate_year'] = df['creatDate'].dt.year\n",
    "df['creatDate_month'] = df['creatDate'].dt.month\n",
    "df['creatDate_day'] = df['creatDate'].dt.day\n",
    "\n",
    "# 使用天数\n",
    "df['car_age_day'] = (df['creatDate'] - df['regDate']).dt.days\n",
    "# 使用年数\n",
    "df['car_age_year'] = round(df['car_age_day'] / 365, 1)\n",
    "\n",
    "# 对行驶路程和功率数据进行统计，例如：计算行驶路程与功率的最大值、最小值、中位数和均值等。\n",
    "# 对训练数据中 kilometer（行驶里程） 分组后，统计每组对应的 power（发动机功率）的一些描述性统计特征，并将这些统计特征合并回主数据 df 中。\n",
    "# kk[0] = 'kilometer'：表示按这个字段分组（行驶里程）\n",
    "# kk[1] = 'power'：表示对这个字段计算统计量（功率）\n",
    "kk = ['kilometer', 'power']\n",
    "# 对 Train_data 按照 kilometer 分组；对每组的 power 值计算多个统计量：\n",
    "t1 = Train_data.groupby(kk[0], as_index=False)[kk[1]].agg(\n",
    "    {kk[0] + '_' + kk[1] + '_count': 'count', # 每个里程值对应多少条记录\n",
    "     kk[0] + '_' + kk[1] + '_max': 'max', # 最大功率\n",
    "     kk[0] + '_' + kk[1] + '_median': 'median', # 中位功率\n",
    "     kk[0] + '_' + kk[1] + '_min': 'min',  # 最小功率\n",
    "     kk[0] + '_' + kk[1] + '_sum': 'sum',  # 总功率\n",
    "     kk[0] + '_' + kk[1] + '_std': 'std', # 功率标准差\n",
    "     kk[0] + '_' + kk[1] + '_mean': 'mean'}) # \t平均功率\n",
    "df = pd.merge(df, t1, on=kk[0], how='left') # 把这些统计特征 t1 按照 kilometer（行驶里程）合并回主表 df。合并方式是 left join，保留 df 中所有行。"
   ]
  },
  {
   "cell_type": "code",
   "execution_count": null,
   "metadata": {},
   "outputs": [],
   "source": [
    "# 为部分属性列的数据生成新的特征，主要是通过对 V0、V3、V8 和 V12 四个特征进行组合生成新的二元和三元特征。\n",
    "num_cols = [0, 3, 8, 12]\n",
    "for i in num_cols:\n",
    "    for j in num_cols:\n",
    "        df['new' + str(i) + '*' + str(j)] = df['v_' + str(i)] * df['v_' + str(j)]\n",
    "\n",
    "for i in num_cols:\n",
    "    for j in num_cols:\n",
    "        df['new' + str(i) + '+' + str(j)] = df['v_' + str(i)] + df['v_' + str(j)]\n",
    "\n",
    "for i in num_cols:\n",
    "    for j in num_cols:\n",
    "        df['new' + str(i) + '-' + str(j)] = df['v_' + str(i)] - df['v_' + str(j)]\n",
    "\n",
    "for i in range(15):\n",
    "    df['new' + str(i) + '*year'] = df['v_' + str(i)] * df['car_age_year']\n",
    "# 这段代码的目标是扩展原始特征空间，帮助模型学习更复杂的特征关系。\n",
    "# 类型\t    示例\t            意图\n",
    "# 乘法组合\tv_0 * v_3\t        捕捉非线性关系\n",
    "# 加法组合\tv_8 + v_12\t        提供总量特征\n",
    "# 减法组合\tv_12 - v_0\t        提供差异特征\n",
    "# 年龄交互\tv_5 * car_age_year\t考虑特征随时间变化的影响    \n"
   ]
  },
  {
   "cell_type": "code",
   "execution_count": null,
   "metadata": {},
   "outputs": [
    {
     "name": "stderr",
     "output_type": "stream",
     "text": [
      "交叉验证进度:   0%|          | 0/4 [00:00<?, ?it/s]"
     ]
    },
    {
     "name": "stdout",
     "output_type": "stream",
     "text": [
      "--------------------- 第 1 折 ---------------------\n",
      "[LightGBM] [Warning] feature_fraction is set=0.8, colsample_bytree=1.0 will be ignored. Current value: feature_fraction=0.8\n",
      "[LightGBM] [Warning] lambda_l2 is set=2, reg_lambda=0.0 will be ignored. Current value: lambda_l2=2\n",
      "[LightGBM] [Warning] bagging_fraction is set=0.8, subsample=1.0 will be ignored. Current value: bagging_fraction=0.8\n",
      "[LightGBM] [Warning] bagging_freq is set=1, subsample_freq=0 will be ignored. Current value: bagging_freq=1\n",
      "[LightGBM] [Warning] feature_fraction is set=0.8, colsample_bytree=1.0 will be ignored. Current value: feature_fraction=0.8\n",
      "[LightGBM] [Warning] lambda_l2 is set=2, reg_lambda=0.0 will be ignored. Current value: lambda_l2=2\n",
      "[LightGBM] [Warning] bagging_fraction is set=0.8, subsample=1.0 will be ignored. Current value: bagging_fraction=0.8\n",
      "[LightGBM] [Warning] bagging_freq is set=1, subsample_freq=0 will be ignored. Current value: bagging_freq=1\n",
      "[LightGBM] [Info] Auto-choosing col-wise multi-threading, the overhead of testing was 0.038411 seconds.\n",
      "You can set `force_col_wise=true` to remove the overhead.\n",
      "[LightGBM] [Info] Total Bins 20391\n",
      "[LightGBM] [Info] Number of data points in the train set: 112500, number of used features: 98\n",
      "[LightGBM] [Warning] feature_fraction is set=0.8, colsample_bytree=1.0 will be ignored. Current value: feature_fraction=0.8\n",
      "[LightGBM] [Warning] lambda_l2 is set=2, reg_lambda=0.0 will be ignored. Current value: lambda_l2=2\n",
      "[LightGBM] [Warning] bagging_fraction is set=0.8, subsample=1.0 will be ignored. Current value: bagging_fraction=0.8\n",
      "[LightGBM] [Warning] bagging_freq is set=1, subsample_freq=0 will be ignored. Current value: bagging_freq=1\n",
      "[LightGBM] [Info] Start training from score 8.086718\n",
      "Training until validation scores don't improve for 300 rounds\n",
      "Early stopping, best iteration is:\n",
      "[46952]\tvalid_0's l1: 0.108064\n",
      "[LightGBM] [Warning] feature_fraction is set=0.8, colsample_bytree=1.0 will be ignored. Current value: feature_fraction=0.8\n",
      "[LightGBM] [Warning] lambda_l2 is set=2, reg_lambda=0.0 will be ignored. Current value: lambda_l2=2\n",
      "[LightGBM] [Warning] bagging_fraction is set=0.8, subsample=1.0 will be ignored. Current value: bagging_fraction=0.8\n",
      "[LightGBM] [Warning] bagging_freq is set=1, subsample_freq=0 will be ignored. Current value: bagging_freq=1\n",
      "[LightGBM] [Warning] feature_fraction is set=0.8, colsample_bytree=1.0 will be ignored. Current value: feature_fraction=0.8\n",
      "[LightGBM] [Warning] lambda_l2 is set=2, reg_lambda=0.0 will be ignored. Current value: lambda_l2=2\n",
      "[LightGBM] [Warning] bagging_fraction is set=0.8, subsample=1.0 will be ignored. Current value: bagging_fraction=0.8\n",
      "[LightGBM] [Warning] bagging_freq is set=1, subsample_freq=0 will be ignored. Current value: bagging_freq=1\n"
     ]
    },
    {
     "name": "stderr",
     "output_type": "stream",
     "text": [
      "交叉验证进度:  25%|██▌       | 1/4 [12:28<37:26, 748.72s/it]"
     ]
    },
    {
     "name": "stdout",
     "output_type": "stream",
     "text": [
      "--------------------- 第 2 折 ---------------------\n",
      "[LightGBM] [Warning] feature_fraction is set=0.8, colsample_bytree=1.0 will be ignored. Current value: feature_fraction=0.8\n",
      "[LightGBM] [Warning] lambda_l2 is set=2, reg_lambda=0.0 will be ignored. Current value: lambda_l2=2\n",
      "[LightGBM] [Warning] bagging_fraction is set=0.8, subsample=1.0 will be ignored. Current value: bagging_fraction=0.8\n",
      "[LightGBM] [Warning] bagging_freq is set=1, subsample_freq=0 will be ignored. Current value: bagging_freq=1\n",
      "[LightGBM] [Warning] feature_fraction is set=0.8, colsample_bytree=1.0 will be ignored. Current value: feature_fraction=0.8\n",
      "[LightGBM] [Warning] lambda_l2 is set=2, reg_lambda=0.0 will be ignored. Current value: lambda_l2=2\n",
      "[LightGBM] [Warning] bagging_fraction is set=0.8, subsample=1.0 will be ignored. Current value: bagging_fraction=0.8\n",
      "[LightGBM] [Warning] bagging_freq is set=1, subsample_freq=0 will be ignored. Current value: bagging_freq=1\n",
      "[LightGBM] [Info] Auto-choosing col-wise multi-threading, the overhead of testing was 0.041529 seconds.\n",
      "You can set `force_col_wise=true` to remove the overhead.\n",
      "[LightGBM] [Info] Total Bins 20389\n",
      "[LightGBM] [Info] Number of data points in the train set: 112500, number of used features: 98\n",
      "[LightGBM] [Warning] feature_fraction is set=0.8, colsample_bytree=1.0 will be ignored. Current value: feature_fraction=0.8\n",
      "[LightGBM] [Warning] lambda_l2 is set=2, reg_lambda=0.0 will be ignored. Current value: lambda_l2=2\n",
      "[LightGBM] [Warning] bagging_fraction is set=0.8, subsample=1.0 will be ignored. Current value: bagging_fraction=0.8\n",
      "[LightGBM] [Warning] bagging_freq is set=1, subsample_freq=0 will be ignored. Current value: bagging_freq=1\n",
      "[LightGBM] [Info] Start training from score 8.086718\n",
      "Training until validation scores don't improve for 300 rounds\n",
      "Early stopping, best iteration is:\n",
      "[35805]\tvalid_0's l1: 0.10716\n",
      "[LightGBM] [Warning] feature_fraction is set=0.8, colsample_bytree=1.0 will be ignored. Current value: feature_fraction=0.8\n",
      "[LightGBM] [Warning] lambda_l2 is set=2, reg_lambda=0.0 will be ignored. Current value: lambda_l2=2\n",
      "[LightGBM] [Warning] bagging_fraction is set=0.8, subsample=1.0 will be ignored. Current value: bagging_fraction=0.8\n",
      "[LightGBM] [Warning] bagging_freq is set=1, subsample_freq=0 will be ignored. Current value: bagging_freq=1\n",
      "[LightGBM] [Warning] feature_fraction is set=0.8, colsample_bytree=1.0 will be ignored. Current value: feature_fraction=0.8\n",
      "[LightGBM] [Warning] lambda_l2 is set=2, reg_lambda=0.0 will be ignored. Current value: lambda_l2=2\n",
      "[LightGBM] [Warning] bagging_fraction is set=0.8, subsample=1.0 will be ignored. Current value: bagging_fraction=0.8\n",
      "[LightGBM] [Warning] bagging_freq is set=1, subsample_freq=0 will be ignored. Current value: bagging_freq=1\n"
     ]
    },
    {
     "name": "stderr",
     "output_type": "stream",
     "text": [
      "交叉验证进度:  50%|█████     | 2/4 [22:04<21:34, 647.21s/it]"
     ]
    },
    {
     "name": "stdout",
     "output_type": "stream",
     "text": [
      "--------------------- 第 3 折 ---------------------\n",
      "[LightGBM] [Warning] feature_fraction is set=0.8, colsample_bytree=1.0 will be ignored. Current value: feature_fraction=0.8\n",
      "[LightGBM] [Warning] lambda_l2 is set=2, reg_lambda=0.0 will be ignored. Current value: lambda_l2=2\n",
      "[LightGBM] [Warning] bagging_fraction is set=0.8, subsample=1.0 will be ignored. Current value: bagging_fraction=0.8\n",
      "[LightGBM] [Warning] bagging_freq is set=1, subsample_freq=0 will be ignored. Current value: bagging_freq=1\n",
      "[LightGBM] [Warning] feature_fraction is set=0.8, colsample_bytree=1.0 will be ignored. Current value: feature_fraction=0.8\n",
      "[LightGBM] [Warning] lambda_l2 is set=2, reg_lambda=0.0 will be ignored. Current value: lambda_l2=2\n",
      "[LightGBM] [Warning] bagging_fraction is set=0.8, subsample=1.0 will be ignored. Current value: bagging_fraction=0.8\n",
      "[LightGBM] [Warning] bagging_freq is set=1, subsample_freq=0 will be ignored. Current value: bagging_freq=1\n",
      "[LightGBM] [Info] Auto-choosing col-wise multi-threading, the overhead of testing was 0.038349 seconds.\n",
      "You can set `force_col_wise=true` to remove the overhead.\n",
      "[LightGBM] [Info] Total Bins 20388\n",
      "[LightGBM] [Info] Number of data points in the train set: 112500, number of used features: 98\n",
      "[LightGBM] [Warning] feature_fraction is set=0.8, colsample_bytree=1.0 will be ignored. Current value: feature_fraction=0.8\n",
      "[LightGBM] [Warning] lambda_l2 is set=2, reg_lambda=0.0 will be ignored. Current value: lambda_l2=2\n",
      "[LightGBM] [Warning] bagging_fraction is set=0.8, subsample=1.0 will be ignored. Current value: bagging_fraction=0.8\n",
      "[LightGBM] [Warning] bagging_freq is set=1, subsample_freq=0 will be ignored. Current value: bagging_freq=1\n",
      "[LightGBM] [Info] Start training from score 8.098947\n",
      "Training until validation scores don't improve for 300 rounds\n",
      "Early stopping, best iteration is:\n",
      "[36107]\tvalid_0's l1: 0.107439\n",
      "[LightGBM] [Warning] feature_fraction is set=0.8, colsample_bytree=1.0 will be ignored. Current value: feature_fraction=0.8\n",
      "[LightGBM] [Warning] lambda_l2 is set=2, reg_lambda=0.0 will be ignored. Current value: lambda_l2=2\n",
      "[LightGBM] [Warning] bagging_fraction is set=0.8, subsample=1.0 will be ignored. Current value: bagging_fraction=0.8\n",
      "[LightGBM] [Warning] bagging_freq is set=1, subsample_freq=0 will be ignored. Current value: bagging_freq=1\n",
      "[LightGBM] [Warning] feature_fraction is set=0.8, colsample_bytree=1.0 will be ignored. Current value: feature_fraction=0.8\n",
      "[LightGBM] [Warning] lambda_l2 is set=2, reg_lambda=0.0 will be ignored. Current value: lambda_l2=2\n",
      "[LightGBM] [Warning] bagging_fraction is set=0.8, subsample=1.0 will be ignored. Current value: bagging_fraction=0.8\n",
      "[LightGBM] [Warning] bagging_freq is set=1, subsample_freq=0 will be ignored. Current value: bagging_freq=1\n"
     ]
    },
    {
     "name": "stderr",
     "output_type": "stream",
     "text": [
      "交叉验证进度:  75%|███████▌  | 3/4 [31:40<10:14, 614.49s/it]"
     ]
    },
    {
     "name": "stdout",
     "output_type": "stream",
     "text": [
      "--------------------- 第 4 折 ---------------------\n",
      "[LightGBM] [Warning] feature_fraction is set=0.8, colsample_bytree=1.0 will be ignored. Current value: feature_fraction=0.8\n",
      "[LightGBM] [Warning] lambda_l2 is set=2, reg_lambda=0.0 will be ignored. Current value: lambda_l2=2\n",
      "[LightGBM] [Warning] bagging_fraction is set=0.8, subsample=1.0 will be ignored. Current value: bagging_fraction=0.8\n",
      "[LightGBM] [Warning] bagging_freq is set=1, subsample_freq=0 will be ignored. Current value: bagging_freq=1\n",
      "[LightGBM] [Warning] feature_fraction is set=0.8, colsample_bytree=1.0 will be ignored. Current value: feature_fraction=0.8\n",
      "[LightGBM] [Warning] lambda_l2 is set=2, reg_lambda=0.0 will be ignored. Current value: lambda_l2=2\n",
      "[LightGBM] [Warning] bagging_fraction is set=0.8, subsample=1.0 will be ignored. Current value: bagging_fraction=0.8\n",
      "[LightGBM] [Warning] bagging_freq is set=1, subsample_freq=0 will be ignored. Current value: bagging_freq=1\n",
      "[LightGBM] [Info] Auto-choosing col-wise multi-threading, the overhead of testing was 0.041070 seconds.\n",
      "You can set `force_col_wise=true` to remove the overhead.\n",
      "[LightGBM] [Info] Total Bins 20389\n",
      "[LightGBM] [Info] Number of data points in the train set: 112500, number of used features: 98\n",
      "[LightGBM] [Warning] feature_fraction is set=0.8, colsample_bytree=1.0 will be ignored. Current value: feature_fraction=0.8\n",
      "[LightGBM] [Warning] lambda_l2 is set=2, reg_lambda=0.0 will be ignored. Current value: lambda_l2=2\n",
      "[LightGBM] [Warning] bagging_fraction is set=0.8, subsample=1.0 will be ignored. Current value: bagging_fraction=0.8\n",
      "[LightGBM] [Warning] bagging_freq is set=1, subsample_freq=0 will be ignored. Current value: bagging_freq=1\n",
      "[LightGBM] [Info] Start training from score 8.086718\n",
      "Training until validation scores don't improve for 300 rounds\n",
      "Early stopping, best iteration is:\n",
      "[28768]\tvalid_0's l1: 0.108582\n",
      "[LightGBM] [Warning] feature_fraction is set=0.8, colsample_bytree=1.0 will be ignored. Current value: feature_fraction=0.8\n",
      "[LightGBM] [Warning] lambda_l2 is set=2, reg_lambda=0.0 will be ignored. Current value: lambda_l2=2\n",
      "[LightGBM] [Warning] bagging_fraction is set=0.8, subsample=1.0 will be ignored. Current value: bagging_fraction=0.8\n",
      "[LightGBM] [Warning] bagging_freq is set=1, subsample_freq=0 will be ignored. Current value: bagging_freq=1\n",
      "[LightGBM] [Warning] feature_fraction is set=0.8, colsample_bytree=1.0 will be ignored. Current value: feature_fraction=0.8\n",
      "[LightGBM] [Warning] lambda_l2 is set=2, reg_lambda=0.0 will be ignored. Current value: lambda_l2=2\n",
      "[LightGBM] [Warning] bagging_fraction is set=0.8, subsample=1.0 will be ignored. Current value: bagging_fraction=0.8\n",
      "[LightGBM] [Warning] bagging_freq is set=1, subsample_freq=0 will be ignored. Current value: bagging_freq=1\n"
     ]
    },
    {
     "name": "stderr",
     "output_type": "stream",
     "text": [
      "交叉验证进度: 100%|██████████| 4/4 [39:15<00:00, 588.91s/it]"
     ]
    },
    {
     "name": "stdout",
     "output_type": "stream",
     "text": [
      "交叉验证 MAE: 460.91733166528695\n"
     ]
    },
    {
     "name": "stderr",
     "output_type": "stream",
     "text": [
      "\n"
     ]
    }
   ],
   "source": [
    "# 导入tqdm库\n",
    "from tqdm import tqdm\n",
    "\n",
    "# 使用LightGBM 回归器作为模型，对数据进行训练和预测。\n",
    "# 对数据进行五折交叉检验，最后通过将五次模型训练得到的结果平均作为最终预测结果，并将结果保存到文件中供提交。\n",
    "df1 = df.copy()\n",
    "test = df1[df1['price'].isnull()]\n",
    "X_train = df1[df1['price'].notnull()].drop(['price', 'regDate', 'creatDate', 'SaleID', 'regionCode'], axis=1)\n",
    "Y_train = df1[df1['price'].notnull()]['price']\n",
    "X_test = df1[df1['price'].isnull()].drop(['price', 'regDate', 'creatDate', 'SaleID', 'regionCode'], axis=1)\n",
    "# 五折交叉检验\n",
    "cols = list(X_train) # 获取所有特征名\n",
    "oof = np.zeros(X_train.shape[0]) # 保存 Out-Of-Fold 验证结果（每一折的验证集预测值）\n",
    "sub = test[['SaleID']].copy() # 初始化提交结果 DataFrame\n",
    "sub['price'] = 0  # 初始化预测价格为0\n",
    "feat_df = pd.DataFrame({'feat': cols, 'imp': 0}) # 初始化特征重要性表\n",
    "# 每次迭代用 3 折训练，1 折验证。\n",
    "skf = KFold(n_splits=4, shuffle=True) #, random_state=2025\n",
    "\n",
    "# 导入早停回调函数，如果在验证集上连续若干轮（比如 50 轮）没有提升，就提前停止训练，避免过拟合。\n",
    "from lightgbm.callback import early_stopping\n",
    "\n",
    "clf = LGBMRegressor(\n",
    "    n_estimators=100000,        # 允许最多训练这么多棵树（配合早停避免过拟合）\n",
    "    learning_rate=0.07,         # 0.02,    学习率，较小可使模型更稳定\n",
    "    boosting_type='gbdt',       # 使用梯度提升树\n",
    "    objective='regression_l1',  # 回归目标函数，L1损失（即 MAE）\n",
    "    max_depth=-1,               # 不限制树的最大深度\n",
    "    num_leaves=31,              # 每棵树最多的叶子节点数（越大模型越复杂）\n",
    "    min_child_samples=20,       #  一个叶子上最少的数据数，用于防止过拟合\n",
    "    feature_fraction=0.8,       # 每次训练随机使用 80% 的特征\n",
    "    bagging_freq=1,             # 每轮都进行 bagging\n",
    "    bagging_fraction=0.8,       #  每轮训练使用 80% 的样本\n",
    "    lambda_l2=2,                # \tL2 正则项，防止过拟合\n",
    "    # random_state=2025,\n",
    "    metric='mae'                # 验证指标为 MAE（平均绝对误差）\n",
    ")\n",
    "\n",
    "mae = 0\n",
    "# 使用tqdm包装循环，添加进度条\n",
    "for i, (trn_idx, val_idx) in enumerate(tqdm(list(skf.split(X_train, Y_train)), desc=\"交叉验证进度\")):\n",
    "    print('--------------------- 第 {} 折 ---------------------'.format(i + 1))\n",
    "    # trn_x / trn_y：训练数据和标签\n",
    "    # val_x / val_y：验证数据和标签\n",
    "    # .reset_index(drop=True) 是为了避免索引错乱\n",
    "    trn_x, trn_y = X_train.iloc[trn_idx].reset_index(drop=True), Y_train[trn_idx]\n",
    "    val_x, val_y = X_train.iloc[val_idx].reset_index(drop=True), Y_train[val_idx]\n",
    "    # 用训练集训练模型\n",
    "    # eval_set 指定验证集用于监控指标（MAE）\n",
    "    # early_stopping(300)：如果 300 次迭代验证集的 MAE 没有提升，就提前停止训练\n",
    "    clf.fit(\n",
    "        trn_x, trn_y,\n",
    "        eval_set=[(val_x, val_y)],\n",
    "        eval_metric='mae',\n",
    "        callbacks=[early_stopping(300)],  # 使用回调函数替代early_stopping_rounds\n",
    "    )\n",
    "\n",
    "    sub['price'] += np.expm1(clf.predict(X_test)) / skf.n_splits \n",
    "    # 对测试集进行预测\n",
    "    # np.expm1(...) 是对预测值 还原对数变换，因为原标签可能之前做过 log1p（对价格取对数）\n",
    "    # / skf.n_splits 是取平均预测（因为是每一折都预测了一次测试集，最后要平均）\n",
    "    oof[val_idx] = clf.predict(val_x)\n",
    "    mae += mean_absolute_error(np.expm1(val_y), np.expm1(oof[val_idx])) / skf.n_splits\n",
    "    # 计算这一折的 MAE（使用还原后的价格）\n",
    "    # mae 累加每一折的误差（最后是 4 折的平均）\n",
    "print('交叉验证 MAE:', mae)"
   ]
  },
  {
   "cell_type": "code",
   "execution_count": null,
   "metadata": {},
   "outputs": [],
   "source": [
    "# 生成提交文件\n",
    "sub.to_csv('submit_norandom.csv', index=False) # 不保存行索引列，只保存 DataFrame 的列（即只导出 SaleID 和 price 两列）"
   ]
  }
 ],
 "metadata": {
  "kernelspec": {
   "display_name": "new_opencv_env",
   "language": "python",
   "name": "python3"
  },
  "language_info": {
   "codemirror_mode": {
    "name": "ipython",
    "version": 3
   },
   "file_extension": ".py",
   "mimetype": "text/x-python",
   "name": "python",
   "nbconvert_exporter": "python",
   "pygments_lexer": "ipython3",
   "version": "3.9.22"
  }
 },
 "nbformat": 4,
 "nbformat_minor": 2
}
